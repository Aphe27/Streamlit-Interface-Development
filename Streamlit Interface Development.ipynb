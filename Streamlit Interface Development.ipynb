{
 "cells": [
  {
   "cell_type": "code",
   "execution_count": 1,
   "id": "51e4e7f3-2ad8-4648-8943-8b17600078b3",
   "metadata": {},
   "outputs": [
    {
     "name": "stdout",
     "output_type": "stream",
     "text": [
      "Defaulting to user installation because normal site-packages is not writeable\n",
      "Requirement already satisfied: streamlit in /usr/local/lib/python3.10/site-packages (1.28.2)\n",
      "Requirement already satisfied: altair<6,>=4.0 in /usr/local/lib/python3.10/site-packages (from streamlit) (4.2.0)\n",
      "Requirement already satisfied: blinker<2,>=1.0.0 in /usr/local/lib/python3.10/site-packages (from streamlit) (1.4)\n",
      "Requirement already satisfied: cachetools<6,>=4.0 in /usr/local/lib/python3.10/site-packages (from streamlit) (5.3.1)\n",
      "Requirement already satisfied: click<9,>=7.0 in /usr/local/lib/python3.10/site-packages (from streamlit) (8.1.3)\n",
      "Requirement already satisfied: importlib-metadata<7,>=1.4 in /usr/local/lib/python3.10/site-packages (from streamlit) (4.12.0)\n",
      "Requirement already satisfied: numpy<2,>=1.19.3 in /usr/local/lib/python3.10/site-packages (from streamlit) (1.23.5)\n",
      "Requirement already satisfied: packaging<24,>=16.8 in /usr/local/lib/python3.10/site-packages (from streamlit) (22.0)\n",
      "Requirement already satisfied: pandas<3,>=1.3.0 in /usr/local/lib/python3.10/site-packages (from streamlit) (1.5.3)\n",
      "Requirement already satisfied: pillow<11,>=7.1.0 in /usr/local/lib/python3.10/site-packages (from streamlit) (9.1.1)\n",
      "Requirement already satisfied: protobuf<5,>=3.20 in /usr/local/lib/python3.10/site-packages (from streamlit) (3.20.3)\n",
      "Requirement already satisfied: pyarrow>=6.0 in /usr/local/lib/python3.10/site-packages (from streamlit) (8.0.0)\n",
      "Requirement already satisfied: python-dateutil<3,>=2.7.3 in /usr/local/lib/python3.10/site-packages (from streamlit) (2.8.2)\n",
      "Requirement already satisfied: requests<3,>=2.27 in /usr/local/lib/python3.10/site-packages (from streamlit) (2.28.1)\n",
      "Requirement already satisfied: rich<14,>=10.14.0 in /usr/local/lib/python3.10/site-packages (from streamlit) (13.5.3)\n",
      "Requirement already satisfied: tenacity<9,>=8.1.0 in /usr/local/lib/python3.10/site-packages (from streamlit) (8.2.2)\n",
      "Requirement already satisfied: toml<2,>=0.10.1 in /usr/local/lib/python3.10/site-packages (from streamlit) (0.10.2)\n",
      "Requirement already satisfied: typing-extensions<5,>=4.3.0 in /usr/local/lib/python3.10/site-packages (from streamlit) (4.5.0)\n",
      "Requirement already satisfied: tzlocal<6,>=1.1 in /usr/local/lib/python3.10/site-packages (from streamlit) (5.2)\n",
      "Requirement already satisfied: validators<1,>=0.2 in /usr/local/lib/python3.10/site-packages (from streamlit) (0.22.0)\n",
      "Requirement already satisfied: gitpython!=3.1.19,<4,>=3.0.7 in /usr/local/lib/python3.10/site-packages (from streamlit) (3.1.27)\n",
      "Requirement already satisfied: pydeck<1,>=0.8.0b4 in /usr/local/lib/python3.10/site-packages (from streamlit) (0.8.1b0)\n",
      "Requirement already satisfied: tornado<7,>=6.0.3 in /usr/local/lib/python3.10/site-packages (from streamlit) (6.2)\n",
      "Requirement already satisfied: watchdog>=2.1.5 in /usr/local/lib/python3.10/site-packages (from streamlit) (2.1.9)\n",
      "Requirement already satisfied: entrypoints in /usr/local/lib/python3.10/site-packages (from altair<6,>=4.0->streamlit) (0.4)\n",
      "Requirement already satisfied: jinja2 in /usr/local/lib/python3.10/site-packages (from altair<6,>=4.0->streamlit) (3.1.2)\n",
      "Requirement already satisfied: jsonschema>=3.0 in /usr/local/lib/python3.10/site-packages (from altair<6,>=4.0->streamlit) (4.17.3)\n",
      "Requirement already satisfied: toolz in /usr/local/lib/python3.10/site-packages (from altair<6,>=4.0->streamlit) (0.11.2)\n",
      "Requirement already satisfied: gitdb<5,>=4.0.1 in /usr/local/lib/python3.10/site-packages (from gitpython!=3.1.19,<4,>=3.0.7->streamlit) (4.0.9)\n",
      "Requirement already satisfied: zipp>=0.5 in /usr/local/lib/python3.10/site-packages (from importlib-metadata<7,>=1.4->streamlit) (3.8.0)\n",
      "Requirement already satisfied: pytz>=2020.1 in /usr/local/lib/python3.10/site-packages (from pandas<3,>=1.3.0->streamlit) (2022.1)\n",
      "Requirement already satisfied: six>=1.5 in /usr/local/lib/python3.10/site-packages (from python-dateutil<3,>=2.7.3->streamlit) (1.16.0)\n",
      "Requirement already satisfied: charset-normalizer<3,>=2 in /usr/local/lib/python3.10/site-packages (from requests<3,>=2.27->streamlit) (2.1.0)\n",
      "Requirement already satisfied: idna<4,>=2.5 in /usr/local/lib/python3.10/site-packages (from requests<3,>=2.27->streamlit) (3.3)\n",
      "Requirement already satisfied: urllib3<1.27,>=1.21.1 in /usr/local/lib/python3.10/site-packages (from requests<3,>=2.27->streamlit) (1.26.9)\n",
      "Requirement already satisfied: certifi>=2017.4.17 in /usr/local/lib/python3.10/site-packages (from requests<3,>=2.27->streamlit) (2022.6.15)\n",
      "Requirement already satisfied: markdown-it-py>=2.2.0 in /usr/local/lib/python3.10/site-packages (from rich<14,>=10.14.0->streamlit) (3.0.0)\n",
      "Requirement already satisfied: pygments<3.0.0,>=2.13.0 in /usr/local/lib/python3.10/site-packages (from rich<14,>=10.14.0->streamlit) (2.16.1)\n",
      "Requirement already satisfied: smmap<6,>=3.0.1 in /usr/local/lib/python3.10/site-packages (from gitdb<5,>=4.0.1->gitpython!=3.1.19,<4,>=3.0.7->streamlit) (5.0.0)\n",
      "Requirement already satisfied: MarkupSafe>=2.0 in /usr/local/lib/python3.10/site-packages (from jinja2->altair<6,>=4.0->streamlit) (2.1.1)\n",
      "Requirement already satisfied: attrs>=17.4.0 in /usr/local/lib/python3.10/site-packages (from jsonschema>=3.0->altair<6,>=4.0->streamlit) (23.1.0)\n",
      "Requirement already satisfied: pyrsistent!=0.17.0,!=0.17.1,!=0.17.2,>=0.14.0 in /usr/local/lib/python3.10/site-packages (from jsonschema>=3.0->altair<6,>=4.0->streamlit) (0.18.1)\n",
      "Requirement already satisfied: mdurl~=0.1 in /usr/local/lib/python3.10/site-packages (from markdown-it-py>=2.2.0->rich<14,>=10.14.0->streamlit) (0.1.1)\n",
      "Note: you may need to restart the kernel to use updated packages.\n"
     ]
    }
   ],
   "source": [
    "pip install streamlit"
   ]
  },
  {
   "cell_type": "code",
   "execution_count": 14,
   "id": "b460e38e-f798-40e7-a0ec-19924176c4b3",
   "metadata": {},
   "outputs": [
    {
     "name": "stdout",
     "output_type": "stream",
     "text": [
      "Defaulting to user installation because normal site-packages is not writeable\n",
      "Requirement already satisfied: pandas in /usr/local/lib/python3.10/site-packages (1.5.3)\n",
      "Requirement already satisfied: numpy in /usr/local/lib/python3.10/site-packages (1.23.5)\n",
      "Requirement already satisfied: nltk in /usr/local/lib/python3.10/site-packages (3.8.1)\n",
      "Requirement already satisfied: textblob in /usr/local/lib/python3.10/site-packages (0.17.1)\n",
      "Requirement already satisfied: matplotlib in /usr/local/lib/python3.10/site-packages (3.6.3)\n",
      "Requirement already satisfied: seaborn in /usr/local/lib/python3.10/site-packages (0.12.2)\n",
      "Requirement already satisfied: wordcloud in /usr/local/lib/python3.10/site-packages (1.9.2)\n",
      "Requirement already satisfied: python-dateutil>=2.8.1 in /usr/local/lib/python3.10/site-packages (from pandas) (2.8.2)\n",
      "Requirement already satisfied: pytz>=2020.1 in /usr/local/lib/python3.10/site-packages (from pandas) (2022.1)\n",
      "Requirement already satisfied: click in /usr/local/lib/python3.10/site-packages (from nltk) (8.1.3)\n",
      "Requirement already satisfied: joblib in /usr/local/lib/python3.10/site-packages (from nltk) (1.2.0)\n",
      "Requirement already satisfied: regex>=2021.8.3 in /usr/local/lib/python3.10/site-packages (from nltk) (2022.6.2)\n",
      "Requirement already satisfied: tqdm in /usr/local/lib/python3.10/site-packages (from nltk) (4.64.0)\n",
      "Requirement already satisfied: contourpy>=1.0.1 in /usr/local/lib/python3.10/site-packages (from matplotlib) (1.0.7)\n",
      "Requirement already satisfied: cycler>=0.10 in /usr/local/lib/python3.10/site-packages (from matplotlib) (0.11.0)\n",
      "Requirement already satisfied: fonttools>=4.22.0 in /usr/local/lib/python3.10/site-packages (from matplotlib) (4.33.3)\n",
      "Requirement already satisfied: kiwisolver>=1.0.1 in /usr/local/lib/python3.10/site-packages (from matplotlib) (1.4.3)\n",
      "Requirement already satisfied: packaging>=20.0 in /usr/local/lib/python3.10/site-packages (from matplotlib) (22.0)\n",
      "Requirement already satisfied: pillow>=6.2.0 in /usr/local/lib/python3.10/site-packages (from matplotlib) (9.1.1)\n",
      "Requirement already satisfied: pyparsing>=2.2.1 in /usr/local/lib/python3.10/site-packages (from matplotlib) (3.0.9)\n",
      "Requirement already satisfied: six>=1.5 in /usr/local/lib/python3.10/site-packages (from python-dateutil>=2.8.1->pandas) (1.16.0)\n",
      "Note: you may need to restart the kernel to use updated packages.\n"
     ]
    }
   ],
   "source": [
    "pip install pandas numpy nltk textblob matplotlib seaborn wordcloud"
   ]
  },
  {
   "cell_type": "code",
   "execution_count": 4,
   "id": "29f6790d-5dcb-469a-a11d-d5e8a1bbd6c3",
   "metadata": {},
   "outputs": [],
   "source": [
    "import streamlit as st\n",
    "import pandas as pd\n",
    "from wordcloud import WordCloud\n",
    "import matplotlib.pyplot as plt\n",
    "import seaborn as sns"
   ]
  },
  {
   "cell_type": "code",
   "execution_count": 7,
   "id": "a101ef6f-4d4f-41af-9bce-9bb809faa73c",
   "metadata": {},
   "outputs": [],
   "source": [
    "# Load the data\n",
    "file_path = 'job_descriptions.csv'  # Update with the correct file path\n",
    "data = pd.read_csv(file_path)"
   ]
  },
  {
   "cell_type": "code",
   "execution_count": 8,
   "id": "145904af-902a-444c-bf33-140f43f5cb1e",
   "metadata": {},
   "outputs": [],
   "source": [
    "# Streamlit App\n",
    "st.set_page_config(page_title=\"Job Insights Dashboard\", layout=\"wide\")\n"
   ]
  },
  {
   "cell_type": "code",
   "execution_count": 9,
   "id": "058ef92f-90b9-4a65-85ba-9e93716222d0",
   "metadata": {},
   "outputs": [
    {
     "name": "stderr",
     "output_type": "stream",
     "text": [
      "2024-12-05 10:29:32.059 \n",
      "  \u001b[33m\u001b[1mWarning:\u001b[0m to view this Streamlit app on a browser, run it with the following\n",
      "  command:\n",
      "\n",
      "    streamlit run /usr/local/lib/python3.10/site-packages/ipykernel_launcher.py [ARGUMENTS]\n"
     ]
    }
   ],
   "source": [
    "# Sidebar - Filters\n",
    "st.sidebar.header(\"Filters\")\n",
    "job_title_filter = st.sidebar.selectbox(\"Select Job Title\", [\"All\"] + list(data[\"Job_Title\"].unique()))\n",
    "experience_filter = st.sidebar.selectbox(\"Select Experience Level\", [\"All\"] + list(data[\"Experience_Level\"].unique()))\n",
    "location_filter = st.sidebar.selectbox(\"Select Location\", [\"All\"] + list(data[\"Location\"].unique()))\n",
    "industry_filter = st.sidebar.selectbox(\"Select Industry\", [\"All\"] + list(data[\"Industry\"].unique()))"
   ]
  },
  {
   "cell_type": "code",
   "execution_count": 10,
   "id": "a27dd1d7-b365-440a-8bc1-342f2bac16bc",
   "metadata": {},
   "outputs": [
    {
     "data": {
      "text/plain": [
       "DeltaGenerator()"
      ]
     },
     "execution_count": 10,
     "metadata": {},
     "output_type": "execute_result"
    }
   ],
   "source": [
    "# Apply Filters\n",
    "filtered_data = data.copy()\n",
    "if job_title_filter != \"All\":\n",
    "    filtered_data = filtered_data[filtered_data[\"Job_Title\"] == job_title_filter]\n",
    "if experience_filter != \"All\":\n",
    "    filtered_data = filtered_data[filtered_data[\"Experience_Level\"] == experience_filter]\n",
    "if location_filter != \"All\":\n",
    "    filtered_data = filtered_data[filtered_data[\"Location\"] == location_filter]\n",
    "if industry_filter != \"All\":\n",
    "    filtered_data = filtered_data[filtered_data[\"Industry\"] == industry_filter]\n",
    "\n",
    "# Main Page\n",
    "st.title(\"Job Insights Dashboard\")\n",
    "st.markdown(\"Use the filters on the left to customize your insights.\")\n"
   ]
  },
  {
   "cell_type": "code",
   "execution_count": 11,
   "id": "5dfb52c7-550f-4c55-97eb-a9e869f0550d",
   "metadata": {},
   "outputs": [
    {
     "data": {
      "text/plain": [
       "DeltaGenerator()"
      ]
     },
     "execution_count": 11,
     "metadata": {},
     "output_type": "execute_result"
    },
    {
     "data": {
      "image/png": "[encoded data removed]",
      "text/plain": [
       "<Figure size 432x288 with 1 Axes>"
      ]
     },
     "metadata": {
      "needs_background": "light"
     },
     "output_type": "display_data"
    }
   ],
   "source": [
    "# Visualization 1: Salary Range Distribution\n",
    "st.subheader(\"Salary Range Distribution\")\n",
    "salary_dist = sns.countplot(data=filtered_data, x=\"Salary_Range\", order=data[\"Salary_Range\"].value_counts().index, palette=\"muted\")\n",
    "st.pyplot(salary_dist.figure)\n"
   ]
  },
  {
   "cell_type": "code",
   "execution_count": 12,
   "id": "e27fa412-52b5-463f-98a9-70a4a088d745",
   "metadata": {},
   "outputs": [
    {
     "data": {
      "text/plain": [
       "DeltaGenerator()"
      ]
     },
     "execution_count": 12,
     "metadata": {},
     "output_type": "execute_result"
    },
    {
     "data": {
      "image/png": "[encoded data removed]",
      "text/plain": [
       "<Figure size 432x288 with 1 Axes>"
      ]
     },
     "metadata": {
      "needs_background": "light"
     },
     "output_type": "display_data"
    }
   ],
   "source": [
    "# Visualization 2: Experience Level Breakdown\n",
    "st.subheader(\"Experience Level Breakdown\")\n",
    "exp_level_dist = sns.countplot(data=filtered_data, x=\"Experience_Level\", order=data[\"Experience_Level\"].value_counts().index, palette=\"pastel\")\n",
    "st.pyplot(exp_level_dist.figure)"
   ]
  },
  {
   "cell_type": "code",
   "execution_count": 16,
   "id": "972d6672-a9d4-43f7-b8c5-c37e5e3e8191",
   "metadata": {},
   "outputs": [],
   "source": [
    "# Tooltips\n",
    "with st.expander(\"How to Use This Dashboard\"):\n",
    "    st.write(\"\"\"\n",
    "    - **Filters**: Use the sidebar to filter the data by job title, experience level, location, and industry.\n",
    "    - **Salary Range Distribution**: View the distribution of jobs across different salary ranges.\n",
    "    - **Experience Level Breakdown**: Analyze the proportion of jobs based on experience level.\n",
    "    - **Word Cloud**: See the most frequently required skills for the filtered jobs.\n",
    "    \"\"\")"
   ]
  },
  {
   "cell_type": "code",
   "execution_count": null,
   "id": "9944c91a-a086-4a93-8cb7-0bd8423cf1d1",
   "metadata": {},
   "outputs": [],
   "source": []
  }
 ],
 "metadata": {
  "kernelspec": {
   "display_name": "Python 3 [3.10]",
   "language": "python",
   "name": "python3"
  },
  "language_info": {
   "codemirror_mode": {
    "name": "ipython",
    "version": 3
   },
   "file_extension": ".py",
   "mimetype": "text/x-python",
   "name": "python",
   "nbconvert_exporter": "python",
   "pygments_lexer": "ipython3",
   "version": "3.10.2"
  }
 },
 "nbformat": 4,
 "nbformat_minor": 5
}
